{
 "cells": [
  {
   "cell_type": "code",
   "execution_count": 1,
   "metadata": {},
   "outputs": [
    {
     "name": "stdout",
     "output_type": "stream",
     "text": [
      "Loads checkpoint by local backend from path: mmocr_text/ckpts/dbnetpp_resnet50-oclip_fpnc_1200e_icdar2015_20221101_124139-4ecb39ac.pth\n",
      "10/14 06:33:37 - mmengine - \u001b[5m\u001b[4m\u001b[33mWARNING\u001b[0m - Failed to search registry with scope \"mmocr\" in the \"function\" registry tree. As a workaround, the current \"function\" registry in \"mmengine\" is used to build instance. This may cause unexpected failure when running the built modules. Please check whether \"mmocr\" is a correct scope, or whether the registry is initialized.\n"
     ]
    },
    {
     "name": "stderr",
     "output_type": "stream",
     "text": [
      "/home/linjw/anaconda3/envs/pytorch/lib/python3.9/site-packages/mmengine/visualization/visualizer.py:196: UserWarning: Failed to add <class 'mmengine.visualization.vis_backend.LocalVisBackend'>, please provide the `save_dir` argument.\n",
      "  warnings.warn(f'Failed to add {vis_backend.__class__}, '\n"
     ]
    },
    {
     "data": {
      "text/html": [
       "<pre style=\"white-space:pre;overflow-x:auto;line-height:normal;font-family:Menlo,'DejaVu Sans Mono',consolas,'Courier New',monospace\">/home/linjw/anaconda3/envs/pytorch/lib/python3.9/site-packages/rich/live.py:231: UserWarning: install \"ipywidgets\" \n",
       "for Jupyter support\n",
       "  warnings.warn('install \"ipywidgets\" for Jupyter support')\n",
       "</pre>\n"
      ],
      "text/plain": [
       "/home/linjw/anaconda3/envs/pytorch/lib/python3.9/site-packages/rich/live.py:231: UserWarning: install \"ipywidgets\" \n",
       "for Jupyter support\n",
       "  warnings.warn('install \"ipywidgets\" for Jupyter support')\n"
      ]
     },
     "metadata": {},
     "output_type": "display_data"
    },
    {
     "data": {
      "text/html": [
       "<pre style=\"white-space:pre;overflow-x:auto;line-height:normal;font-family:Menlo,'DejaVu Sans Mono',consolas,'Courier New',monospace\"></pre>\n"
      ],
      "text/plain": []
     },
     "metadata": {},
     "output_type": "display_data"
    },
    {
     "data": {
      "text/html": [
       "<pre style=\"white-space:pre;overflow-x:auto;line-height:normal;font-family:Menlo,'DejaVu Sans Mono',consolas,'Courier New',monospace\">\n",
       "</pre>\n"
      ],
      "text/plain": [
       "\n"
      ]
     },
     "metadata": {},
     "output_type": "display_data"
    }
   ],
   "source": [
    "\n",
    "import sys\n",
    "import os \n",
    "os.environ[\"CUDA_VISIBLE_DEVICES\"] = \"1\"\n",
    "sys.path.append('./mmocr_text/')\n",
    "from mmocr.apis import TextDetInferencer\n",
    "inferencer = TextDetInferencer(model='DBNetPP', weights='mmocr_text/ckpts/dbnetpp_resnet50-oclip_fpnc_1200e_icdar2015_20221101_124139-4ecb39ac.pth')\n",
    "poly_list = inferencer('/home/linjw/WorkSpace/product_text_refine-master/example/1690784723456_3_ref.png')['predictions'][0]['polygons']"
   ]
  },
  {
   "cell_type": "code",
   "execution_count": 2,
   "metadata": {},
   "outputs": [
    {
     "name": "stdout",
     "output_type": "stream",
     "text": [
      "Loads checkpoint by local backend from path: mmocr_text/ckpts/dbnetpp_resnet50-oclip_fpnc_1200e_icdar2015_20221101_124139-4ecb39ac.pth\n"
     ]
    },
    {
     "data": {
      "text/html": [
       "<pre style=\"white-space:pre;overflow-x:auto;line-height:normal;font-family:Menlo,'DejaVu Sans Mono',consolas,'Courier New',monospace\"></pre>\n"
      ],
      "text/plain": []
     },
     "metadata": {},
     "output_type": "display_data"
    },
    {
     "data": {
      "text/html": [
       "<pre style=\"white-space:pre;overflow-x:auto;line-height:normal;font-family:Menlo,'DejaVu Sans Mono',consolas,'Courier New',monospace\">\n",
       "</pre>\n"
      ],
      "text/plain": [
       "\n"
      ]
     },
     "metadata": {},
     "output_type": "display_data"
    }
   ],
   "source": [
    "inferencer = TextDetInferencer(model='DBNetPP', weights='mmocr_text/ckpts/dbnetpp_resnet50-oclip_fpnc_1200e_icdar2015_20221101_124139-4ecb39ac.pth')\n",
    "poly_list = inferencer('/home/linjw/WorkSpace/product_text_refine-master/example/1690784723456_3_ref.png')['predictions'][0]['polygons']"
   ]
  },
  {
   "cell_type": "code",
   "execution_count": 3,
   "metadata": {},
   "outputs": [
    {
     "data": {
      "text/plain": [
       "[[532.0, 571.0, 532.0, 560.0, 563.0, 560.0, 563.0, 571.0],\n",
       " [514.0, 572.0, 514.0, 560.0, 531.0, 560.0, 531.0, 572.0],\n",
       " [477.0, 572.0, 477.0, 560.0, 506.0, 560.0, 506.0, 572.0],\n",
       " [564.0, 559.0, 584.0, 559.0, 584.0, 570.0, 564.0, 570.0],\n",
       " [588.0, 560.0, 597.0, 560.0, 597.0, 566.0, 588.0, 566.0],\n",
       " [483.0, 556.0, 483.0, 541.0, 521.0, 541.0, 521.0, 556.0],\n",
       " [526.0, 540.0, 564.0, 540.0, 564.0, 555.0, 526.0, 555.0],\n",
       " [565.3470458984375,\n",
       "  539.51171875,\n",
       "  599.5294189453125,\n",
       "  536.88232421875,\n",
       "  600.6588134765625,\n",
       "  551.564697265625,\n",
       "  566.4764404296875,\n",
       "  554.194091796875],\n",
       " [416.0, 551.0, 416.0, 537.0, 433.0, 537.0, 433.0, 551.0],\n",
       " [482.78839111328125,\n",
       "  516.1466674804688,\n",
       "  555.8544311523438,\n",
       "  514.8418579101562,\n",
       "  556.1929321289062,\n",
       "  533.8001098632812,\n",
       "  483.12689208984375,\n",
       "  535.1049194335938],\n",
       " [415.0, 531.0, 415.0, 515.0, 437.0, 515.0, 437.0, 531.0],\n",
       " [508.0, 496.0, 539.0, 496.0, 539.0, 513.0, 508.0, 513.0],\n",
       " [485.0, 497.0, 503.0, 497.0, 503.0, 512.0, 485.0, 512.0],\n",
       " [543.5909423828125,\n",
       "  496.1837158203125,\n",
       "  579.736572265625,\n",
       "  494.67767333984375,\n",
       "  580.389892578125,\n",
       "  510.3587646484375,\n",
       "  544.2442626953125,\n",
       "  511.86480712890625],\n",
       " [416.409912109375,\n",
       "  509.0485534667969,\n",
       "  417.37982177734375,\n",
       "  494.1770324707031,\n",
       "  481.4984130859375,\n",
       "  498.3586730957031,\n",
       "  480.52850341796875,\n",
       "  513.230224609375],\n",
       " [581.1034545898438,\n",
       "  494.241455078125,\n",
       "  609.4069213867188,\n",
       "  491.8828125,\n",
       "  610.7861938476562,\n",
       "  508.43450927734375,\n",
       "  582.4827270507812,\n",
       "  510.79315185546875],\n",
       " [477.6858825683594,\n",
       "  491.990966796875,\n",
       "  478.1467590332031,\n",
       "  475.86126708984375,\n",
       "  523.3099365234375,\n",
       "  477.15167236328125,\n",
       "  522.8489990234375,\n",
       "  493.2813720703125],\n",
       " [414.78082275390625,\n",
       "  488.86181640625,\n",
       "  415.115966796875,\n",
       "  473.7803955078125,\n",
       "  472.22113037109375,\n",
       "  475.04937744140625,\n",
       "  471.885986328125,\n",
       "  490.13079833984375],\n",
       " [468.0, 474.0, 468.0, 459.0, 524.0, 459.0, 524.0, 474.0],\n",
       " [445.0, 473.0, 445.0, 459.0, 465.0, 459.0, 465.0, 473.0],\n",
       " [546.6943359375,\n",
       "  460.20806884765625,\n",
       "  622.8126220703125,\n",
       "  457.2230224609375,\n",
       "  623.2994384765625,\n",
       "  469.63531494140625,\n",
       "  547.18115234375,\n",
       "  472.620361328125],\n",
       " [417.0, 471.0, 417.0, 458.0, 440.0, 458.0, 440.0, 471.0],\n",
       " [495.0, 436.0, 548.0, 436.0, 548.0, 451.0, 495.0, 451.0],\n",
       " [461.0, 451.0, 461.0, 436.0, 490.0, 436.0, 490.0, 451.0],\n",
       " [417.4163513183594,\n",
       "  447.33856201171875,\n",
       "  418.3580017089844,\n",
       "  432.27239990234375,\n",
       "  455.6498107910156,\n",
       "  434.6031494140625,\n",
       "  454.7081604003906,\n",
       "  449.6693115234375],\n",
       " [416.8896484375,\n",
       "  427.6758728027344,\n",
       "  417.25384521484375,\n",
       "  405.6405944824219,\n",
       "  568.2291259765625,\n",
       "  408.1360778808594,\n",
       "  567.8649291992188,\n",
       "  430.1713562011719]]"
      ]
     },
     "execution_count": 3,
     "metadata": {},
     "output_type": "execute_result"
    }
   ],
   "source": [
    "poly_list"
   ]
  },
  {
   "cell_type": "code",
   "execution_count": 4,
   "metadata": {},
   "outputs": [],
   "source": [
    "from segment_anything import SAMInterface"
   ]
  },
  {
   "cell_type": "code",
   "execution_count": 5,
   "metadata": {},
   "outputs": [],
   "source": [
    "sam_interface = SAMInterface(model_type='vit_h', ckpt_path='segment_anything/checkpoints/sam_vit_h_4b8939.pth')"
   ]
  },
  {
   "cell_type": "code",
   "execution_count": 7,
   "metadata": {},
   "outputs": [
    {
     "data": {
      "text/plain": [
       "array([[0, 0, 0, ..., 0, 0, 0],\n",
       "       [0, 0, 0, ..., 0, 0, 0],\n",
       "       [0, 0, 0, ..., 0, 0, 0],\n",
       "       ...,\n",
       "       [0, 0, 0, ..., 0, 0, 0],\n",
       "       [0, 0, 0, ..., 0, 0, 0],\n",
       "       [0, 0, 0, ..., 0, 0, 0]])"
      ]
     },
     "execution_count": 7,
     "metadata": {},
     "output_type": "execute_result"
    }
   ],
   "source": [
    "output = sam_interface.infer(poly_list,'/home/linjw/WorkSpace/product_text_refine-master/example/1690784723456_3_ref.png' )\n",
    "output"
   ]
  },
  {
   "cell_type": "code",
   "execution_count": 2,
   "metadata": {},
   "outputs": [
    {
     "ename": "ModuleNotFoundError",
     "evalue": "No module named 'mmocr'",
     "output_type": "error",
     "traceback": [
      "\u001b[0;31m---------------------------------------------------------------------------\u001b[0m",
      "\u001b[0;31mModuleNotFoundError\u001b[0m                       Traceback (most recent call last)",
      "\u001b[1;32m/home/linjw/WorkSpace/product_text_refine-master/test.ipynb 单元格 7\u001b[0m line \u001b[0;36m<cell line: 1>\u001b[0;34m()\u001b[0m\n\u001b[0;32m----> <a href='vscode-notebook-cell://ssh-remote%2Bpizza/home/linjw/WorkSpace/product_text_refine-master/test.ipynb#W6sdnNjb2RlLXJlbW90ZQ%3D%3D?line=0'>1</a>\u001b[0m \u001b[39mfrom\u001b[39;00m \u001b[39mmmocr_text\u001b[39;00m \u001b[39mimport\u001b[39;00m TextDetInferencerA\n",
      "File \u001b[0;32m~/WorkSpace/product_text_refine-master/mmocr_text/__init__.py:1\u001b[0m, in \u001b[0;36m<module>\u001b[0;34m\u001b[0m\n\u001b[0;32m----> 1\u001b[0m \u001b[39mfrom\u001b[39;00m \u001b[39mmmocr\u001b[39;00m\u001b[39m.\u001b[39;00m\u001b[39mapis\u001b[39;00m \u001b[39mimport\u001b[39;00m TextDetInferencer\n",
      "File \u001b[0;32m~/WorkSpace/product_text_refine-master/mmocr_text/mmocr/apis/__init__.py:2\u001b[0m, in \u001b[0;36m<module>\u001b[0;34m\u001b[0m\n\u001b[1;32m      1\u001b[0m \u001b[39m# Copyright (c) OpenMMLab. All rights reserved.\u001b[39;00m\n\u001b[0;32m----> 2\u001b[0m \u001b[39mfrom\u001b[39;00m \u001b[39m.\u001b[39;00m\u001b[39minferencers\u001b[39;00m \u001b[39mimport\u001b[39;00m \u001b[39m*\u001b[39m\n",
      "File \u001b[0;32m~/WorkSpace/product_text_refine-master/mmocr_text/mmocr/apis/inferencers/__init__.py:2\u001b[0m, in \u001b[0;36m<module>\u001b[0;34m\u001b[0m\n\u001b[1;32m      1\u001b[0m \u001b[39m# Copyright (c) OpenMMLab. All rights reserved.\u001b[39;00m\n\u001b[0;32m----> 2\u001b[0m \u001b[39mfrom\u001b[39;00m \u001b[39m.\u001b[39;00m\u001b[39mkie_inferencer\u001b[39;00m \u001b[39mimport\u001b[39;00m KIEInferencer\n\u001b[1;32m      3\u001b[0m \u001b[39mfrom\u001b[39;00m \u001b[39m.\u001b[39;00m\u001b[39mmmocr_inferencer\u001b[39;00m \u001b[39mimport\u001b[39;00m MMOCRInferencer\n\u001b[1;32m      4\u001b[0m \u001b[39mfrom\u001b[39;00m \u001b[39m.\u001b[39;00m\u001b[39mtextdet_inferencer\u001b[39;00m \u001b[39mimport\u001b[39;00m TextDetInferencer\n",
      "File \u001b[0;32m~/WorkSpace/product_text_refine-master/mmocr_text/mmocr/apis/inferencers/kie_inferencer.py:12\u001b[0m, in \u001b[0;36m<module>\u001b[0;34m\u001b[0m\n\u001b[1;32m      9\u001b[0m \u001b[39mfrom\u001b[39;00m \u001b[39mmmengine\u001b[39;00m\u001b[39m.\u001b[39;00m\u001b[39mdataset\u001b[39;00m \u001b[39mimport\u001b[39;00m Compose, pseudo_collate\n\u001b[1;32m     10\u001b[0m \u001b[39mfrom\u001b[39;00m \u001b[39mmmengine\u001b[39;00m\u001b[39m.\u001b[39;00m\u001b[39mrunner\u001b[39;00m\u001b[39m.\u001b[39;00m\u001b[39mcheckpoint\u001b[39;00m \u001b[39mimport\u001b[39;00m _load_checkpoint\n\u001b[0;32m---> 12\u001b[0m \u001b[39mfrom\u001b[39;00m \u001b[39mmmocr\u001b[39;00m\u001b[39m.\u001b[39;00m\u001b[39mregistry\u001b[39;00m \u001b[39mimport\u001b[39;00m DATASETS\n\u001b[1;32m     13\u001b[0m \u001b[39mfrom\u001b[39;00m \u001b[39mmmocr\u001b[39;00m\u001b[39m.\u001b[39;00m\u001b[39mstructures\u001b[39;00m \u001b[39mimport\u001b[39;00m KIEDataSample\n\u001b[1;32m     14\u001b[0m \u001b[39mfrom\u001b[39;00m \u001b[39mmmocr\u001b[39;00m\u001b[39m.\u001b[39;00m\u001b[39mutils\u001b[39;00m \u001b[39mimport\u001b[39;00m ConfigType\n",
      "\u001b[0;31mModuleNotFoundError\u001b[0m: No module named 'mmocr'"
     ]
    }
   ],
   "source": [
    "from mmocr_text import TextDetInferencerA"
   ]
  },
  {
   "cell_type": "code",
   "execution_count": null,
   "metadata": {},
   "outputs": [],
   "source": []
  }
 ],
 "metadata": {
  "kernelspec": {
   "display_name": "pytorch",
   "language": "python",
   "name": "python3"
  },
  "language_info": {
   "codemirror_mode": {
    "name": "ipython",
    "version": 3
   },
   "file_extension": ".py",
   "mimetype": "text/x-python",
   "name": "python",
   "nbconvert_exporter": "python",
   "pygments_lexer": "ipython3",
   "version": "3.9.18"
  }
 },
 "nbformat": 4,
 "nbformat_minor": 2
}
